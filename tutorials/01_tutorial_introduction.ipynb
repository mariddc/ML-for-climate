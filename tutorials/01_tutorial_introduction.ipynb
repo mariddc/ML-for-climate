{
 "cells": [
  {
   "cell_type": "markdown",
   "id": "5eb8c31b",
   "metadata": {
    "slideshow": {
     "slide_type": "slide"
    }
   },
   "source": [
    "# Tutorial 1 : Python basics "
   ]
  },
  {
   "cell_type": "markdown",
   "id": "6027c215",
   "metadata": {},
   "source": [
    "<div class=\"alert alert-block alert-info\">\n",
    "    <b>Learning Outcomes</b>\n",
    "   \n",
    "- Data manipulation in python: numpy, matplotlib, pandas\n",
    "- First steps with scikit-learn\n",
    "\n",
    "</div>"
   ]
  },
  {
   "cell_type": "markdown",
   "id": "4b22f615",
   "metadata": {
    "slideshow": {
     "slide_type": "subslide"
    }
   },
   "source": [
    "Python is a popular computer language. We will use it along with 4 libraries: numpy for array handling, pandas for time series, scikit-learn for machine learning tools and matplotlib for plotting. There are *a lot* of resources on the web: the user manual remains the primary location where you should be looking for documentation about a specific function. https://stackoverflow.com/ is also a great source of information since many people before you have already had the same question as you. A good intro to numpy: https://sebastianraschka.com/blog/2020/numpy-intro.html\n",
    "\n",
    "Even though python is a great language, don't forget that it is an [Interpreted language](https://en.wikipedia.org/wiki/Interpreter_(computing)). That means that python can be very slow. For this reason you should \n",
    "\n",
    "- Rely on existing libraries when available\n",
    "- Write compact code\n",
    "- Avoid loops\n",
    "\n",
    "In fact, most modern libraries deffer the heavy lifting part to compiled bits of codes which typically run much faster than your own implementation.\n",
    "\n",
    "Last, don't forget to comment your codes."
   ]
  },
  {
   "cell_type": "markdown",
   "id": "d318e1af",
   "metadata": {
    "slideshow": {
     "slide_type": "subslide"
    }
   },
   "source": [
    "## Numpy for array handling\n",
    "\n",
    "Numpy is the core library when it comes to manipulating \"dense\" arrays of numbers and you should always use it instead of raw python lists. Numpy also comes with a couple of linear algebra routines to perform basic operations (matrix multiplication, linear systems, eigenvalue solver). However for large-scale application (and sparse matrices) we will use different libraries (like scipy)."
   ]
  },
  {
   "cell_type": "code",
   "execution_count": 224,
   "id": "79be0bbd",
   "metadata": {
    "slideshow": {
     "slide_type": "subslide"
    }
   },
   "outputs": [],
   "source": [
    "import numpy as np"
   ]
  },
  {
   "cell_type": "markdown",
   "id": "ec3d3360",
   "metadata": {
    "slideshow": {
     "slide_type": "subslide"
    }
   },
   "source": [
    "Vectors are first declared as a list of number and are then converted to numpy arrays. Note that python does not make the difference between row vectors and column vectors: all vectors are treated as rows."
   ]
  },
  {
   "cell_type": "code",
   "execution_count": 225,
   "id": "40d7a0d3",
   "metadata": {
    "slideshow": {
     "slide_type": "subslide"
    }
   },
   "outputs": [
    {
     "name": "stdout",
     "output_type": "stream",
     "text": [
      "[1 2 3]\n"
     ]
    }
   ],
   "source": [
    "x = np.array([1, 2, 3])\n",
    "print(x)"
   ]
  },
  {
   "cell_type": "markdown",
   "id": "56cf12ce",
   "metadata": {
    "slideshow": {
     "slide_type": "subslide"
    }
   },
   "source": [
    "Matrices are declared as an array of arrays in a similar way as vectors. Note that python is case sensitive"
   ]
  },
  {
   "cell_type": "code",
   "execution_count": 226,
   "id": "358f4113",
   "metadata": {
    "slideshow": {
     "slide_type": "subslide"
    }
   },
   "outputs": [
    {
     "name": "stdout",
     "output_type": "stream",
     "text": [
      "[[1 2 3]\n",
      " [4 5 6]\n",
      " [7 8 9]]\n"
     ]
    }
   ],
   "source": [
    "A = np.array([[1, 2, 3], [4, 5, 6], [7, 8, 9]])\n",
    "print(A)"
   ]
  },
  {
   "cell_type": "markdown",
   "id": "da94a9fa",
   "metadata": {
    "slideshow": {
     "slide_type": "subslide"
    }
   },
   "source": [
    "In order to convert a row vector to a column vector, one must add a new dimension as shown below:"
   ]
  },
  {
   "cell_type": "code",
   "execution_count": 227,
   "id": "cf2a3085",
   "metadata": {
    "slideshow": {
     "slide_type": "subslide"
    }
   },
   "outputs": [
    {
     "name": "stdout",
     "output_type": "stream",
     "text": [
      "[[1]\n",
      " [2]\n",
      " [3]]\n"
     ]
    }
   ],
   "source": [
    "x_col = x[:,None]\n",
    "print(x_col)"
   ]
  },
  {
   "cell_type": "markdown",
   "id": "76c27bc4",
   "metadata": {},
   "source": [
    "You can compute the transpose of a vector with the method `.T`. However keep in mind that the transpose of a 1d vector does not really make sense *in python*. If you want to transpose a vector in python, it must have at least two dimensions.\n",
    "\n",
    "> ***Question***\n",
    "> - Try to transpose `x` and `x_col` and check their dimensions.\n",
    "- Hint: You can always check the dimensions of your array with the method `.shape`."
   ]
  },
  {
   "cell_type": "code",
   "execution_count": 228,
   "id": "a837b232",
   "metadata": {},
   "outputs": [
    {
     "name": "stdout",
     "output_type": "stream",
     "text": [
      "(3,)\n",
      "(3,)\n",
      "(3, 1)\n",
      "(1, 3)\n"
     ]
    }
   ],
   "source": [
    "# your code here\n",
    "print(x.shape)\n",
    "print(x.T.shape)\n",
    "\n",
    "print(x_col.shape)\n",
    "print(x_col.T.shape)"
   ]
  },
  {
   "cell_type": "markdown",
   "id": "5ddbdcca",
   "metadata": {
    "slideshow": {
     "slide_type": "subslide"
    }
   },
   "source": [
    "Matrix multiplication can be achieved with `np.dot`, `np.matmul` or `@`.\n",
    "> ***Question***\n",
    "> - Pick the one you prefer to compute $\\mathbf A \\mathbf x$, $\\mathbf x \\mathbf x^\\top$, and $\\mathbf x^\\top \\mathbf x$.\n",
    "\n",
    "- Hint: Did I already warn you about transposing 1d vectors in python?\n",
    "\n",
    "With the  vectors and matrices defined above, you should get:\n",
    "$\\mathbf A \\mathbf x = [14, 32, 50]^\\top$\n",
    "\n",
    "\\begin{align}\n",
    " \\mathbf x \\mathbf x^\\top = &= \\begin{bmatrix}\n",
    "    1 & 2 & 3\\\\\n",
    "    2 & 4 & 6\\\\\n",
    "    3 & 6 &  9 \\\\\n",
    "  \\end{bmatrix}\n",
    "\\end{align}\n",
    "\n",
    "and \n",
    "$\\mathbf x^\\top \\mathbf x = 14$"
   ]
  },
  {
   "cell_type": "code",
   "execution_count": 229,
   "id": "08bd26b7",
   "metadata": {
    "slideshow": {
     "slide_type": "subslide"
    }
   },
   "outputs": [
    {
     "name": "stdout",
     "output_type": "stream",
     "text": [
      "[[14]\n",
      " [32]\n",
      " [50]]\n",
      "[[1 2 3]\n",
      " [2 4 6]\n",
      " [3 6 9]]\n",
      "[[14]]\n"
     ]
    }
   ],
   "source": [
    "# your code here\n",
    "print(A @ x_col)\n",
    "print(x_col @ x_col.T)\n",
    "print(x_col.T @ x_col)"
   ]
  },
  {
   "cell_type": "markdown",
   "id": "ac280443",
   "metadata": {
    "slideshow": {
     "slide_type": "subslide"
    }
   },
   "source": [
    "You can access the first element of an array with `x[0]` and the last element with `x[-1]`. You can also select a subset using slices like `x[0:2]` (or `x[:2]`). Be careful that the last index of the slice is not part of the subset.\n",
    "\n",
    "> ***Question***\n",
    "> - Can you select the last two element of the vector $\\mathbf x$ with negative indices?"
   ]
  },
  {
   "cell_type": "code",
   "execution_count": 230,
   "id": "8c840f76",
   "metadata": {
    "slideshow": {
     "slide_type": "subslide"
    }
   },
   "outputs": [
    {
     "data": {
      "text/plain": [
       "array([2, 3])"
      ]
     },
     "execution_count": 230,
     "metadata": {},
     "output_type": "execute_result"
    }
   ],
   "source": [
    "# your code here\n",
    "x[-2:]"
   ]
  },
  {
   "cell_type": "markdown",
   "id": "b6bc7f9d",
   "metadata": {
    "slideshow": {
     "slide_type": "subslide"
    }
   },
   "source": [
    "Numpy comes with the standard math function `np.exp`, `np.sqrt`, `np.sin`. Each of these functions applied to an array is applied element-wise. For instance `A**2` raises each element of `A` to the power of 2.\n",
    "\n",
    "> ***Question***\n",
    "> - Is `A*A` the same as `A@A`?"
   ]
  },
  {
   "cell_type": "markdown",
   "id": "62398b11-6cad-4832-aed1-8a6916838673",
   "metadata": {},
   "source": [
    "**Answer:** No. While the operator `*` provides an element-wise multiplication, `@` computes a matrix multiplication. "
   ]
  },
  {
   "cell_type": "code",
   "execution_count": 231,
   "id": "c244bf8b",
   "metadata": {},
   "outputs": [
    {
     "name": "stdout",
     "output_type": "stream",
     "text": [
      "[[ 1  4  9]\n",
      " [16 25 36]\n",
      " [49 64 81]]\n",
      "[[ 30  36  42]\n",
      " [ 66  81  96]\n",
      " [102 126 150]]\n"
     ]
    }
   ],
   "source": [
    "# your code here\n",
    "print(A*A)\n",
    "print(A@A)"
   ]
  },
  {
   "cell_type": "markdown",
   "id": "e918eef6",
   "metadata": {
    "slideshow": {
     "slide_type": "subslide"
    }
   },
   "source": [
    "### Broadcasting\n",
    "\n",
    "In python, we can add, subtract, multiply, (etc.) arrays elementwise. In this context arrays have to be of the same size. But when we do `A+1`, we add the scalar `1` to each element of the array `A`. This type of operation is called [broadcasting](https://numpy.org/doc/stable/user/basics.broadcasting.html). \n",
    "\n",
    "> ***Question***\n",
    "> - Check the broadcasting rules (link above) and add `x` to each column of `A`\n",
    "\n",
    "You should get\n",
    "\\begin{bmatrix}\n",
    "    2 & 3 & 4\\\\\n",
    "    6 & 7 & 8\\\\\n",
    "    10 & 11 &  12 \\\\\n",
    "  \\end{bmatrix}\n",
    "\n"
   ]
  },
  {
   "cell_type": "code",
   "execution_count": 232,
   "id": "a0481349",
   "metadata": {
    "slideshow": {
     "slide_type": "subslide"
    }
   },
   "outputs": [
    {
     "data": {
      "text/plain": [
       "array([[ 2,  3,  4],\n",
       "       [ 6,  7,  8],\n",
       "       [10, 11, 12]])"
      ]
     },
     "execution_count": 232,
     "metadata": {},
     "output_type": "execute_result"
    }
   ],
   "source": [
    "# your code here\n",
    "A + x_col"
   ]
  },
  {
   "cell_type": "markdown",
   "id": "31042ea6",
   "metadata": {
    "slideshow": {
     "slide_type": "subslide"
    }
   },
   "source": [
    "### Generating arrays\n",
    "\n",
    "Empty arrays can be generated with `np.zeros`. We can also generate arrays with [random numbers](https://numpy.org/doc/stable/reference/random/index.html). The most useful functions are\n",
    "- [`np.random.rand`](https://numpy.org/doc/stable/reference/random/generated/numpy.random.rand.html) (uniform distribution)\n",
    "- [`np.random.randn`](https://numpy.org/doc/stable/reference/random/generated/numpy.random.randn.html) (standard normal distribution) \n",
    "- [`np.random.normal`](https://numpy.org/doc/stable/reference/random/generated/numpy.random.normal.html) (normal distribution)\n",
    "\n",
    "> ***Question***\n",
    "> - Generate 2 arrays $v_1$ and $v_2$ with $N=500$ observations following the [normal distribution](https://en.wikipedia.org/wiki/Normal_distribution) $\\mathcal N (\\mu_1,\\sigma_1^2)$ for $v_1$ and $\\mathcal N (\\mu_2,\\sigma_2^2)$ for $v_2$, with $\\mu_1 = 2$, $\\mu_2 = 1$, $\\sigma_1 = 5$, $\\sigma_2 = 1$"
   ]
  },
  {
   "cell_type": "code",
   "execution_count": 233,
   "id": "1763a979",
   "metadata": {
    "slideshow": {
     "slide_type": "subslide"
    }
   },
   "outputs": [],
   "source": [
    "mu1 = 2\n",
    "mu2 = 1\n",
    "\n",
    "sigma1 = 5\n",
    "sigma2 = 1\n",
    "\n",
    "N = 500\n",
    "\n",
    "# your code here\n",
    "v1 = np.random.normal(mu1, sigma1, N)\n",
    "v2 = np.random.normal(mu2, sigma2, N)"
   ]
  },
  {
   "cell_type": "markdown",
   "id": "c37deb45",
   "metadata": {},
   "source": [
    "> ***Question***\n",
    "> - Compute the mean of each array.\n",
    "> - How does it compare to $\\mu_1$ and $\\mu_2$? Can you explain?"
   ]
  },
  {
   "cell_type": "markdown",
   "id": "77d195aa-89c5-4c11-a310-195242ae7b16",
   "metadata": {},
   "source": [
    "**Answer**: The empirical means of each array are close to $\\mu_1$ and $\\mu_2$ respectively, but not exactly equal to them. This happens because numpy generates $v_1$ and $v_2$ by taking 500 samples from the normal distribution determined by each variable's definitions. We also notice that the empirical mean of $v_1$ tends to be further from its theoretical value, since its standard deviation $\\sigma_1$ is bigger."
   ]
  },
  {
   "cell_type": "code",
   "execution_count": 234,
   "id": "19c97944",
   "metadata": {},
   "outputs": [
    {
     "name": "stdout",
     "output_type": "stream",
     "text": [
      "Mean v1: 1.966518296352414\n",
      "Mean v2: 1.0373255230614846\n"
     ]
    }
   ],
   "source": [
    "# your code here\n",
    "print(f'Mean v1: {np.mean(v1)}')\n",
    "print(f'Mean v2: {np.mean(v2)}')"
   ]
  },
  {
   "cell_type": "markdown",
   "id": "f292b4e6",
   "metadata": {},
   "source": [
    "> ***Question***\n",
    "> - Do you think $v_1$ and $v_2$ are correlated?\n",
    "> - Can you compute the actual covariance between $v_1$ and $v_2$ with `np.cov`?\n",
    "> - Recall the definition of the covariance between two variables. [Hint](https://en.wikipedia.org/wiki/Covariance)\n",
    "> - What is the expected covariance matrix in terms of $\\sigma_1$ and $\\sigma_2$\n",
    "> - Do you recognize the array `Cv` defined below?"
   ]
  },
  {
   "cell_type": "markdown",
   "id": "8c133c50-6da2-4e4c-88ae-7483dc83c40b",
   "metadata": {},
   "source": [
    "**Answer:**\n",
    "\n",
    "- No, the arrays are expected to be independent. They were generated by independent sampling.\n",
    "- The actual covariance matrix is computed in the cell below.\n",
    "- \"For two jointly distributed real-valued random variables $\\displaystyle X$ and $\\displaystyle Y$ with finite second moments, the covariance is defined as the expected value (or mean) of the product of their deviations from their individual expected values: $\\operatorname{cov}(X, Y) = \\mathbb{E}\\left[(X - \\mathbb{E}[X])(Y - \\mathbb{E}[Y])\\right]$\"\n",
    "- The covariance matrix between $v_1$ and $v_2$ is expected to be:\n",
    "$$\n",
    "\\begin{pmatrix}\n",
    "  \\sigma_1^2 & 0 \\\\\n",
    "  0  & \\sigma_2^2 \\\\\n",
    "\\end{pmatrix}\n",
    "$$\n",
    "- The array `Cv` is exactly the theoretical covariance matrix between $v_1$ and $v_2$. By comparing it to the actual matrix, we see they are similar but not exactly the same. As we increase the number of samples $N$ used to build both vectors, their covariance matrix would tend to converge to `Cv`."
   ]
  },
  {
   "cell_type": "code",
   "execution_count": 235,
   "id": "08dcac5f",
   "metadata": {},
   "outputs": [
    {
     "name": "stdout",
     "output_type": "stream",
     "text": [
      "Theoretical covariance:\n",
      "[[25  0]\n",
      " [ 0  1]]\n",
      "\n",
      "Actual covariance:\n",
      "[[26.93557716  0.35502359]\n",
      " [ 0.35502359  0.96387439]]\n"
     ]
    }
   ],
   "source": [
    "# your code here\n",
    "Cv = np.array([[sigma1**2, 0], [0,sigma2**2]])\n",
    "\n",
    "print('Theoretical covariance:')\n",
    "print(Cv)\n",
    "print('\\nActual covariance:')\n",
    "print(np.cov(v1, v2))"
   ]
  },
  {
   "cell_type": "markdown",
   "id": "48af9da1",
   "metadata": {
    "slideshow": {
     "slide_type": "subslide"
    }
   },
   "source": [
    "## Matplotlib for plotting\n",
    "\n",
    "To visualize data, matplotlib is the reference tool. Matplotlib is also what runs behind the scene of high level python libraries (pandas, xarray) and so knowing the basics will also be useful there."
   ]
  },
  {
   "cell_type": "code",
   "execution_count": 236,
   "id": "fdf13947",
   "metadata": {
    "slideshow": {
     "slide_type": "subslide"
    }
   },
   "outputs": [],
   "source": [
    "import matplotlib.pyplot as plt"
   ]
  },
  {
   "cell_type": "markdown",
   "id": "bc2359a1",
   "metadata": {
    "slideshow": {
     "slide_type": "subslide"
    }
   },
   "source": [
    "> ***Question***\n",
    "> - Can you visualize the data set `V` that we generated earlier. you can either pass the two variables to the function `plt.plot` in order to plot $v_2$ as a function of $v_1$ or we can use the function `plt.scatter`. Don't forget to \n",
    ">    - adjust the type and size of markers [Hint](https://matplotlib.org/stable/api/markers_api.html)\n",
    ">    - adjust the axis so that both axis are equally stretched [Hint](https://matplotlib.org/stable/gallery/subplots_axes_and_figures/axis_equal_demo.html).\n",
    ">    - add labels [Hint](https://matplotlib.org/stable/api/_as_gen/matplotlib.pyplot.xlabel.html)"
   ]
  },
  {
   "cell_type": "code",
   "execution_count": 237,
   "id": "22460c68",
   "metadata": {
    "slideshow": {
     "slide_type": "subslide"
    }
   },
   "outputs": [
    {
     "data": {
      "image/png": "[encoded data removed]",
      "text/plain": [
       "<Figure size 640x480 with 1 Axes>"
      ]
     },
     "metadata": {},
     "output_type": "display_data"
    }
   ],
   "source": [
    "#your answer here\n",
    "plt.scatter(v1, v2, marker='.', s=10)\n",
    "plt.xlabel('v1')\n",
    "plt.ylabel('v2')\n",
    "plt.axis('equal')\n",
    "plt.show()"
   ]
  },
  {
   "cell_type": "markdown",
   "id": "a8e2cc30",
   "metadata": {},
   "source": [
    "> ***Question***\n",
    "> - Do you *see* the lack of correlation between $v_1$ and $v_2$?"
   ]
  },
  {
   "cell_type": "markdown",
   "id": "b7a9025b-4074-4993-acd9-2662060c44bc",
   "metadata": {},
   "source": [
    "**Answer:** Yes, the plot clearly shows there is no relevant correlation between both vectors."
   ]
  },
  {
   "cell_type": "markdown",
   "id": "c71c041e",
   "metadata": {
    "slideshow": {
     "slide_type": "subslide"
    }
   },
   "source": [
    "Let's analyze the probability density function (pdf) of this data set. The function [`plt.hist`](https://matplotlib.org/stable/api/_as_gen/matplotlib.pyplot.hist.html) provides a discrete estimate of the pdf along a given dimension.\n",
    "\n",
    "> ***Question***\n",
    "> - Use `plt.hist` to compute and plot an estimation of the pdf of $v_1$ and $v_2$. Don't forget to adjust the number of bins.\n"
   ]
  },
  {
   "cell_type": "code",
   "execution_count": 238,
   "id": "e8d3a6e7",
   "metadata": {
    "slideshow": {
     "slide_type": "subslide"
    }
   },
   "outputs": [
    {
     "data": {
      "image/png": "[encoded data removed]",
      "text/plain": [
       "<Figure size 640x480 with 1 Axes>"
      ]
     },
     "metadata": {},
     "output_type": "display_data"
    },
    {
     "data": {
      "image/png": "[encoded data removed]",
      "text/plain": [
       "<Figure size 640x480 with 1 Axes>"
      ]
     },
     "metadata": {},
     "output_type": "display_data"
    },
    {
     "data": {
      "image/png": "[encoded data removed]",
      "text/plain": [
       "<Figure size 640x480 with 1 Axes>"
      ]
     },
     "metadata": {},
     "output_type": "display_data"
    }
   ],
   "source": [
    "# your code here\n",
    "from scipy.stats import norm\n",
    "\n",
    "x1 = np.linspace(min(v1), max(v1), 200)\n",
    "plt.hist(v1, bins=40, density=True)\n",
    "plt.plot(x1, norm.pdf(x1, mu1, sigma1), 'r-', label='Theoretical Gaussian')\n",
    "plt.title('pdf of v1 compared to its theoretical gaussian')\n",
    "plt.show()\n",
    "\n",
    "x2 = np.linspace(min(v2), max(v2), 200)\n",
    "plt.hist(v2, bins=40, density=True)\n",
    "plt.plot(x2, norm.pdf(x2, mu2, sigma2), 'r-', label='Theoretical Gaussian')\n",
    "plt.title('pdf of v2 compared to its theoretical gaussian')\n",
    "plt.show()\n",
    "\n",
    "plt.hist((v1, v2), bins=80, density=True)\n",
    "plt.plot(x2, norm.pdf(x2, mu2, sigma2), 'r-', linewidth=0.5, label='Theoretical Gaussian')\n",
    "plt.plot(x1, norm.pdf(x1, mu1, sigma1), 'r-', linewidth=0.5, label='Theoretical Gaussian')\n",
    "plt.title('pdf of v1 and v2')\n",
    "plt.show()"
   ]
  },
  {
   "cell_type": "markdown",
   "id": "2d882462",
   "metadata": {
    "slideshow": {
     "slide_type": "subslide"
    }
   },
   "source": [
    "We can also get a quick overview of the statistical distribution of the data with [box plot](https://matplotlib.org/stable/api/_as_gen/matplotlib.pyplot.boxplot.html).\n",
    "\n",
    "> ***Question***\n",
    "> - What is the meaning of a box plot?\n",
    "> - Try it on $v_1$"
   ]
  },
  {
   "cell_type": "markdown",
   "id": "539856d8-5f5d-4e3d-92de-e4847fd08986",
   "metadata": {},
   "source": [
    "**Answer:** A boxplot represents the data distribution. The box extends from the first to the third quartile, while the center line represents the median of the data. The vertical line goest from the minimal and maximal data point within the inter-quartile range. Data points outside this range are called outliers and represented as circles outside the lines."
   ]
  },
  {
   "cell_type": "code",
   "execution_count": 239,
   "id": "82ac254a",
   "metadata": {},
   "outputs": [
    {
     "data": {
      "image/png": "[encoded data removed]",
      "text/plain": [
       "<Figure size 640x480 with 1 Axes>"
      ]
     },
     "metadata": {},
     "output_type": "display_data"
    }
   ],
   "source": [
    "# your code here\n",
    "plt.boxplot((v1, v2), tick_labels=['v1', 'v2'])\n",
    "plt.show()"
   ]
  },
  {
   "cell_type": "markdown",
   "id": "01aad77d-1e61-4256-9963-a2f25e1e679a",
   "metadata": {
    "slideshow": {
     "slide_type": "subslide"
    }
   },
   "source": [
    "## Pandas for advanced array manipulation\n",
    "\n",
    "Compared to numpy which already handles arrays of numbers, Pandas essentially handles **metadata**. This will allow you to use predefined functions in pandas especially when it comes to time series manipulations. \n",
    "\n",
    "Pandas has a lot of other nice features like\n",
    "\n",
    "- Intuitive handling of missing data (NaN)\n",
    "- Input/output in many formats\n",
    "- Simplified plotting procedures (labels, axes, etc. are added automatically)\n",
    "- Better management of the memory"
   ]
  },
  {
   "cell_type": "markdown",
   "id": "78cf2acd-8cda-4d84-986b-0c47b585686d",
   "metadata": {},
   "source": [
    "### Data download\n",
    "\n",
    "If you are running a standalone version of the notebook, you will have to download the data first by running:\n",
    "\n",
    "`!mkdir data`\n",
    "\n",
    "`!wget -P data/ https://scrippsco2.ucsd.edu/assets/data/atmospheric/stations/in_situ_co2/daily/daily_in_situ_co2_mlo.csv`\n",
    "\n",
    "and in case wget is not installed, you can install it with\n",
    "\n",
    "!pip install wget\n",
    "\n",
    "!python -m wget -o 'data/daily_in_situ_co2_mlo.csv' https://scrippsco2.ucsd.edu/assets/data/atmospheric/stations/in_situ_co2/daily/daily_in_situ_co2_mlo.csv\n",
    " "
   ]
  },
  {
   "cell_type": "markdown",
   "id": "74b1db1c-44b5-4f0f-9dab-a3f2fdcf5ac8",
   "metadata": {
    "slideshow": {
     "slide_type": "subslide"
    }
   },
   "source": [
    "We are going to explore the basic functionalities of pandas with the historical CO2 measurements taken at Mona Loa also known as the [Keeling curve](https://en.wikipedia.org/wiki/Keeling_Curve). The data can be downloaded at [scrippsco2.ucsd.edu](http://scrippsco2.ucsd.edu) and we are going to analyze the daily output."
   ]
  },
  {
   "cell_type": "markdown",
   "id": "4a51c4a8",
   "metadata": {
    "slideshow": {
     "slide_type": "subslide"
    }
   },
   "source": [
    "Take a moment to inspect the file that is located here `data/daily_in_situ_co2_mlo.csv` (either use a text editor or navigate within jupyter to open the file). Read the header to understand what is the data set about (you may have to investigate more to know about the units). \n",
    "\n",
    "> **Question**\n",
    "> - Why is there NaN in the data set?"
   ]
  },
  {
   "cell_type": "markdown",
   "id": "2613cae6-797d-4977-b0bc-842d6d8d0b70",
   "metadata": {},
   "source": [
    "**Answer:** `NaN` values occur when the data is missing. In this case, they most likely exist in days where no CO2 measurements were taken at Mona Loa."
   ]
  },
  {
   "cell_type": "code",
   "execution_count": 240,
   "id": "4bc9851a",
   "metadata": {
    "slideshow": {
     "slide_type": "subslide"
    }
   },
   "outputs": [],
   "source": [
    "import pandas as pd"
   ]
  },
  {
   "cell_type": "markdown",
   "id": "084fbf75",
   "metadata": {
    "slideshow": {
     "slide_type": "subslide"
    }
   },
   "source": [
    "We are going to use the function [`pd.read_csv`](https://pandas.pydata.org/pandas-docs/stable/reference/api/pandas.read_csv.html) to import the data in python. It is very important to do a clean import of the data so that we can work efficiently afterwards. Pay extra attention to \n",
    "- the commented part in the header (hint: `comment`)\n",
    "- add a name to each column. Use the names **year**, **month**, **day** for the corresponding columns. This way, pandas will directly recognize what they are (hint: `names`)\n",
    "- pandas handles spaces in cvs files in a very specific way: you may need to adjust its behavior with `skipinitialspace`.\n",
    "\n",
    "Use `pd.read_csv` to load the content of `data/daily_in_situ_co2_mlo.csv` into a DataFrame called `df`."
   ]
  },
  {
   "cell_type": "code",
   "execution_count": 241,
   "id": "5d3c3775",
   "metadata": {
    "slideshow": {
     "slide_type": "subslide"
    }
   },
   "outputs": [],
   "source": [
    "df = pd.read_csv('data/daily_in_situ_co2_mlo.csv', comment='%',names=[\"Year\", \"Month\", \"Day\", \"CO2\", \"NB\", \"scale\"], skipinitialspace=True)"
   ]
  },
  {
   "cell_type": "markdown",
   "id": "2cce54df",
   "metadata": {
    "slideshow": {
     "slide_type": "subslide"
    }
   },
   "source": [
    "To access your data, you will need to know the metadata, i.e. the label of each column in the csv file (in this case provided by yourself). You can get a quick overview of your data by typing `df.head()` or `df.describe()`. You will see that the Dataframe `df` can be treated like a spreadsheet with labeled columns and entries for each column. You can view the labels with `df.columns` and the rows indices with `df.index`. Make sure you understand the type of each column of the dataset with `df.dtypes`. "
   ]
  },
  {
   "cell_type": "code",
   "execution_count": 242,
   "id": "7e0853b0",
   "metadata": {
    "slideshow": {
     "slide_type": "subslide"
    }
   },
   "outputs": [
    {
     "data": {
      "text/html": [
       "<div>\n",
       "<style scoped>\n",
       "    .dataframe tbody tr th:only-of-type {\n",
       "        vertical-align: middle;\n",
       "    }\n",
       "\n",
       "    .dataframe tbody tr th {\n",
       "        vertical-align: top;\n",
       "    }\n",
       "\n",
       "    .dataframe thead th {\n",
       "        text-align: right;\n",
       "    }\n",
       "</style>\n",
       "<table border=\"1\" class=\"dataframe\">\n",
       "  <thead>\n",
       "    <tr style=\"text-align: right;\">\n",
       "      <th></th>\n",
       "      <th>Year</th>\n",
       "      <th>Month</th>\n",
       "      <th>Day</th>\n",
       "      <th>CO2</th>\n",
       "      <th>NB</th>\n",
       "      <th>scale</th>\n",
       "    </tr>\n",
       "  </thead>\n",
       "  <tbody>\n",
       "    <tr>\n",
       "      <th>0</th>\n",
       "      <td>1958</td>\n",
       "      <td>1</td>\n",
       "      <td>1</td>\n",
       "      <td>NaN</td>\n",
       "      <td>0.0</td>\n",
       "      <td>12.0</td>\n",
       "    </tr>\n",
       "    <tr>\n",
       "      <th>1</th>\n",
       "      <td>1958</td>\n",
       "      <td>1</td>\n",
       "      <td>2</td>\n",
       "      <td>NaN</td>\n",
       "      <td>0.0</td>\n",
       "      <td>12.0</td>\n",
       "    </tr>\n",
       "    <tr>\n",
       "      <th>2</th>\n",
       "      <td>1958</td>\n",
       "      <td>1</td>\n",
       "      <td>3</td>\n",
       "      <td>NaN</td>\n",
       "      <td>0.0</td>\n",
       "      <td>12.0</td>\n",
       "    </tr>\n",
       "    <tr>\n",
       "      <th>3</th>\n",
       "      <td>1958</td>\n",
       "      <td>1</td>\n",
       "      <td>4</td>\n",
       "      <td>NaN</td>\n",
       "      <td>0.0</td>\n",
       "      <td>12.0</td>\n",
       "    </tr>\n",
       "    <tr>\n",
       "      <th>4</th>\n",
       "      <td>1958</td>\n",
       "      <td>1</td>\n",
       "      <td>5</td>\n",
       "      <td>NaN</td>\n",
       "      <td>0.0</td>\n",
       "      <td>12.0</td>\n",
       "    </tr>\n",
       "  </tbody>\n",
       "</table>\n",
       "</div>"
      ],
      "text/plain": [
       "   Year  Month  Day  CO2   NB  scale\n",
       "0  1958      1    1  NaN  0.0   12.0\n",
       "1  1958      1    2  NaN  0.0   12.0\n",
       "2  1958      1    3  NaN  0.0   12.0\n",
       "3  1958      1    4  NaN  0.0   12.0\n",
       "4  1958      1    5  NaN  0.0   12.0"
      ]
     },
     "execution_count": 242,
     "metadata": {},
     "output_type": "execute_result"
    }
   ],
   "source": [
    "#look at the data set here\n",
    "df.head()"
   ]
  },
  {
   "cell_type": "code",
   "execution_count": 243,
   "id": "7b80852c-4f4f-4912-b7e8-96502fddd36e",
   "metadata": {},
   "outputs": [
    {
     "data": {
      "text/html": [
       "<div>\n",
       "<style scoped>\n",
       "    .dataframe tbody tr th:only-of-type {\n",
       "        vertical-align: middle;\n",
       "    }\n",
       "\n",
       "    .dataframe tbody tr th {\n",
       "        vertical-align: top;\n",
       "    }\n",
       "\n",
       "    .dataframe thead th {\n",
       "        text-align: right;\n",
       "    }\n",
       "</style>\n",
       "<table border=\"1\" class=\"dataframe\">\n",
       "  <thead>\n",
       "    <tr style=\"text-align: right;\">\n",
       "      <th></th>\n",
       "      <th>Year</th>\n",
       "      <th>Month</th>\n",
       "      <th>Day</th>\n",
       "      <th>CO2</th>\n",
       "      <th>NB</th>\n",
       "      <th>scale</th>\n",
       "    </tr>\n",
       "  </thead>\n",
       "  <tbody>\n",
       "    <tr>\n",
       "      <th>count</th>\n",
       "      <td>23284.000000</td>\n",
       "      <td>23284.000000</td>\n",
       "      <td>23284.000000</td>\n",
       "      <td>17162.000000</td>\n",
       "      <td>23283.000000</td>\n",
       "      <td>23284.0</td>\n",
       "    </tr>\n",
       "    <tr>\n",
       "      <th>mean</th>\n",
       "      <td>1989.375880</td>\n",
       "      <td>6.505240</td>\n",
       "      <td>15.729213</td>\n",
       "      <td>358.803873</td>\n",
       "      <td>8.564919</td>\n",
       "      <td>12.0</td>\n",
       "    </tr>\n",
       "    <tr>\n",
       "      <th>std</th>\n",
       "      <td>18.403158</td>\n",
       "      <td>3.443673</td>\n",
       "      <td>8.800064</td>\n",
       "      <td>30.594377</td>\n",
       "      <td>7.323189</td>\n",
       "      <td>0.0</td>\n",
       "    </tr>\n",
       "    <tr>\n",
       "      <th>min</th>\n",
       "      <td>1958.000000</td>\n",
       "      <td>1.000000</td>\n",
       "      <td>1.000000</td>\n",
       "      <td>312.330000</td>\n",
       "      <td>0.000000</td>\n",
       "      <td>12.0</td>\n",
       "    </tr>\n",
       "    <tr>\n",
       "      <th>25%</th>\n",
       "      <td>1973.000000</td>\n",
       "      <td>4.000000</td>\n",
       "      <td>8.000000</td>\n",
       "      <td>330.650000</td>\n",
       "      <td>0.000000</td>\n",
       "      <td>12.0</td>\n",
       "    </tr>\n",
       "    <tr>\n",
       "      <th>50%</th>\n",
       "      <td>1989.000000</td>\n",
       "      <td>7.000000</td>\n",
       "      <td>16.000000</td>\n",
       "      <td>354.970000</td>\n",
       "      <td>8.000000</td>\n",
       "      <td>12.0</td>\n",
       "    </tr>\n",
       "    <tr>\n",
       "      <th>75%</th>\n",
       "      <td>2005.000000</td>\n",
       "      <td>9.000000</td>\n",
       "      <td>23.000000</td>\n",
       "      <td>385.405000</td>\n",
       "      <td>14.000000</td>\n",
       "      <td>12.0</td>\n",
       "    </tr>\n",
       "    <tr>\n",
       "      <th>max</th>\n",
       "      <td>2021.000000</td>\n",
       "      <td>12.000000</td>\n",
       "      <td>31.000000</td>\n",
       "      <td>420.290000</td>\n",
       "      <td>24.000000</td>\n",
       "      <td>12.0</td>\n",
       "    </tr>\n",
       "  </tbody>\n",
       "</table>\n",
       "</div>"
      ],
      "text/plain": [
       "               Year         Month           Day           CO2            NB  \\\n",
       "count  23284.000000  23284.000000  23284.000000  17162.000000  23283.000000   \n",
       "mean    1989.375880      6.505240     15.729213    358.803873      8.564919   \n",
       "std       18.403158      3.443673      8.800064     30.594377      7.323189   \n",
       "min     1958.000000      1.000000      1.000000    312.330000      0.000000   \n",
       "25%     1973.000000      4.000000      8.000000    330.650000      0.000000   \n",
       "50%     1989.000000      7.000000     16.000000    354.970000      8.000000   \n",
       "75%     2005.000000      9.000000     23.000000    385.405000     14.000000   \n",
       "max     2021.000000     12.000000     31.000000    420.290000     24.000000   \n",
       "\n",
       "         scale  \n",
       "count  23284.0  \n",
       "mean      12.0  \n",
       "std        0.0  \n",
       "min       12.0  \n",
       "25%       12.0  \n",
       "50%       12.0  \n",
       "75%       12.0  \n",
       "max       12.0  "
      ]
     },
     "execution_count": 243,
     "metadata": {},
     "output_type": "execute_result"
    }
   ],
   "source": [
    "df.describe()"
   ]
  },
  {
   "cell_type": "code",
   "execution_count": 244,
   "id": "3a558b6c-2842-43f7-aea0-442f545f3a03",
   "metadata": {},
   "outputs": [
    {
     "name": "stdout",
     "output_type": "stream",
     "text": [
      "Index(['Year', 'Month', 'Day', 'CO2', 'NB', 'scale'], dtype='object')\n",
      "\n",
      "RangeIndex(start=0, stop=23284, step=1)\n",
      "\n",
      "Year       int64\n",
      "Month      int64\n",
      "Day        int64\n",
      "CO2      float64\n",
      "NB       float64\n",
      "scale    float64\n",
      "dtype: object\n"
     ]
    }
   ],
   "source": [
    "print(df.columns)\n",
    "print()\n",
    "print(df.index)\n",
    "print()\n",
    "print(df.dtypes)"
   ]
  },
  {
   "cell_type": "markdown",
   "id": "79666f34",
   "metadata": {
    "slideshow": {
     "slide_type": "subslide"
    }
   },
   "source": [
    "You can select a column of the DataFrame by passing one name to `df` like `df[\"Year\"]`. You can also select multiple columns by passing a list of names `df[[\"Year\", \"Month\"]]`. To select specific rows, you need to use the metho `df.loc[i0:i1]` with `i0` and `i1`, the lower and upper bounds of the index. In our case we did not provide labels for the index so pandas automatically numbered the rows with a simple counter `0,1,...`. In that case, `i0` and `i1` are integers but we will see later that `i0` and `i1` can also be two dates (if the index is a date).\n",
    "\n",
    "> ***Question***\n",
    "> - Create a new DataFrame that contains only the first 100 entries and with the columns `Year` and `CO2` only."
   ]
  },
  {
   "cell_type": "code",
   "execution_count": 245,
   "id": "8e1431d4",
   "metadata": {
    "slideshow": {
     "slide_type": "subslide"
    }
   },
   "outputs": [
    {
     "data": {
      "text/html": [
       "<div>\n",
       "<style scoped>\n",
       "    .dataframe tbody tr th:only-of-type {\n",
       "        vertical-align: middle;\n",
       "    }\n",
       "\n",
       "    .dataframe tbody tr th {\n",
       "        vertical-align: top;\n",
       "    }\n",
       "\n",
       "    .dataframe thead th {\n",
       "        text-align: right;\n",
       "    }\n",
       "</style>\n",
       "<table border=\"1\" class=\"dataframe\">\n",
       "  <thead>\n",
       "    <tr style=\"text-align: right;\">\n",
       "      <th></th>\n",
       "      <th>Year</th>\n",
       "      <th>CO2</th>\n",
       "    </tr>\n",
       "  </thead>\n",
       "  <tbody>\n",
       "    <tr>\n",
       "      <th>0</th>\n",
       "      <td>1958</td>\n",
       "      <td>NaN</td>\n",
       "    </tr>\n",
       "    <tr>\n",
       "      <th>1</th>\n",
       "      <td>1958</td>\n",
       "      <td>NaN</td>\n",
       "    </tr>\n",
       "    <tr>\n",
       "      <th>2</th>\n",
       "      <td>1958</td>\n",
       "      <td>NaN</td>\n",
       "    </tr>\n",
       "    <tr>\n",
       "      <th>3</th>\n",
       "      <td>1958</td>\n",
       "      <td>NaN</td>\n",
       "    </tr>\n",
       "    <tr>\n",
       "      <th>4</th>\n",
       "      <td>1958</td>\n",
       "      <td>NaN</td>\n",
       "    </tr>\n",
       "  </tbody>\n",
       "</table>\n",
       "</div>"
      ],
      "text/plain": [
       "   Year  CO2\n",
       "0  1958  NaN\n",
       "1  1958  NaN\n",
       "2  1958  NaN\n",
       "3  1958  NaN\n",
       "4  1958  NaN"
      ]
     },
     "execution_count": 245,
     "metadata": {},
     "output_type": "execute_result"
    }
   ],
   "source": [
    "# your answer here\n",
    "df100 = df[['Year','CO2']].loc[:99]\n",
    "df100.head()"
   ]
  },
  {
   "cell_type": "markdown",
   "id": "36d10236",
   "metadata": {
    "slideshow": {
     "slide_type": "subslide"
    }
   },
   "source": [
    "One killer feature of pandas is the way it handles time series. In order to use the full potential of such tool, one need to change the index to a date that is recognized by pandas. We use [`pd.to_datetime`](https://pandas.pydata.org/pandas-docs/stable/reference/api/pandas.to_datetime.html) to combine the information in the year, month and day columns of the dataframe. `pd.to_datetime` handles several formats as input and you should be careful to use the correct input format. However, because we carefully chose the name of the columns when we imported the file, we can directly assemble the columns `Year`, `Month`, `Day` to create a new datetime object. You can follow the method in the [documentation](https://pandas.pydata.org/pandas-docs/stable/user_guide/timeseries.html#assembling-datetime-from-multiple-dataframe-columns) to re-allocate `df.index` to a `datetime` type variable. Henceforth, we will use `df.index` to access the time dimension."
   ]
  },
  {
   "cell_type": "code",
   "execution_count": 246,
   "id": "3e5274ec",
   "metadata": {
    "slideshow": {
     "slide_type": "subslide"
    }
   },
   "outputs": [
    {
     "data": {
      "text/html": [
       "<div>\n",
       "<style scoped>\n",
       "    .dataframe tbody tr th:only-of-type {\n",
       "        vertical-align: middle;\n",
       "    }\n",
       "\n",
       "    .dataframe tbody tr th {\n",
       "        vertical-align: top;\n",
       "    }\n",
       "\n",
       "    .dataframe thead th {\n",
       "        text-align: right;\n",
       "    }\n",
       "</style>\n",
       "<table border=\"1\" class=\"dataframe\">\n",
       "  <thead>\n",
       "    <tr style=\"text-align: right;\">\n",
       "      <th></th>\n",
       "      <th>CO2</th>\n",
       "      <th>NB</th>\n",
       "      <th>scale</th>\n",
       "    </tr>\n",
       "  </thead>\n",
       "  <tbody>\n",
       "    <tr>\n",
       "      <th>1958-01-01</th>\n",
       "      <td>NaN</td>\n",
       "      <td>0.0</td>\n",
       "      <td>12.0</td>\n",
       "    </tr>\n",
       "    <tr>\n",
       "      <th>1958-01-02</th>\n",
       "      <td>NaN</td>\n",
       "      <td>0.0</td>\n",
       "      <td>12.0</td>\n",
       "    </tr>\n",
       "    <tr>\n",
       "      <th>1958-01-03</th>\n",
       "      <td>NaN</td>\n",
       "      <td>0.0</td>\n",
       "      <td>12.0</td>\n",
       "    </tr>\n",
       "    <tr>\n",
       "      <th>1958-01-04</th>\n",
       "      <td>NaN</td>\n",
       "      <td>0.0</td>\n",
       "      <td>12.0</td>\n",
       "    </tr>\n",
       "    <tr>\n",
       "      <th>1958-01-05</th>\n",
       "      <td>NaN</td>\n",
       "      <td>0.0</td>\n",
       "      <td>12.0</td>\n",
       "    </tr>\n",
       "  </tbody>\n",
       "</table>\n",
       "</div>"
      ],
      "text/plain": [
       "            CO2   NB  scale\n",
       "1958-01-01  NaN  0.0   12.0\n",
       "1958-01-02  NaN  0.0   12.0\n",
       "1958-01-03  NaN  0.0   12.0\n",
       "1958-01-04  NaN  0.0   12.0\n",
       "1958-01-05  NaN  0.0   12.0"
      ]
     },
     "execution_count": 246,
     "metadata": {},
     "output_type": "execute_result"
    }
   ],
   "source": [
    "#your answer here\n",
    "df.index = pd.to_datetime(df[[\"Year\", \"Month\", \"Day\"]])\n",
    "df = df.drop([\"Year\", \"Month\", \"Day\"], axis=1)\n",
    "df.head()"
   ]
  },
  {
   "cell_type": "markdown",
   "id": "8d7346a8",
   "metadata": {
    "slideshow": {
     "slide_type": "subslide"
    }
   },
   "source": [
    "> ***Question (Optional)***\n",
    "> - Note that one could have done this operation directly while reading the data. Use `parse_dates` in `pd.read_csv` to create a datetime object in `df`. Try it."
   ]
  },
  {
   "cell_type": "code",
   "execution_count": 247,
   "id": "7b87b2f8",
   "metadata": {},
   "outputs": [
    {
     "name": "stderr",
     "output_type": "stream",
     "text": [
      "C:\\Users\\maria\\AppData\\Local\\Temp\\ipykernel_22412\\3733131074.py:2: FutureWarning: Support for nested sequences for 'parse_dates' in pd.read_csv is deprecated. Combine the desired columns with pd.to_datetime after parsing instead.\n",
      "  df_parse = pd.read_csv('data/daily_in_situ_co2_mlo.csv', comment='%',names=[\"Year\", \"Month\", \"Day\", \"CO2\", \"NB\", \"scale\", \"station\"], skipinitialspace=True, parse_dates={'date': ['Year', 'Month', 'Day']})\n"
     ]
    },
    {
     "data": {
      "text/html": [
       "<div>\n",
       "<style scoped>\n",
       "    .dataframe tbody tr th:only-of-type {\n",
       "        vertical-align: middle;\n",
       "    }\n",
       "\n",
       "    .dataframe tbody tr th {\n",
       "        vertical-align: top;\n",
       "    }\n",
       "\n",
       "    .dataframe thead th {\n",
       "        text-align: right;\n",
       "    }\n",
       "</style>\n",
       "<table border=\"1\" class=\"dataframe\">\n",
       "  <thead>\n",
       "    <tr style=\"text-align: right;\">\n",
       "      <th></th>\n",
       "      <th>CO2</th>\n",
       "      <th>NB</th>\n",
       "      <th>scale</th>\n",
       "      <th>station</th>\n",
       "    </tr>\n",
       "    <tr>\n",
       "      <th>date</th>\n",
       "      <th></th>\n",
       "      <th></th>\n",
       "      <th></th>\n",
       "      <th></th>\n",
       "    </tr>\n",
       "  </thead>\n",
       "  <tbody>\n",
       "    <tr>\n",
       "      <th>1958-01-01</th>\n",
       "      <td>NaN</td>\n",
       "      <td>0.0</td>\n",
       "      <td>12.0</td>\n",
       "      <td>NaN</td>\n",
       "    </tr>\n",
       "    <tr>\n",
       "      <th>1958-01-02</th>\n",
       "      <td>NaN</td>\n",
       "      <td>0.0</td>\n",
       "      <td>12.0</td>\n",
       "      <td>NaN</td>\n",
       "    </tr>\n",
       "    <tr>\n",
       "      <th>1958-01-03</th>\n",
       "      <td>NaN</td>\n",
       "      <td>0.0</td>\n",
       "      <td>12.0</td>\n",
       "      <td>NaN</td>\n",
       "    </tr>\n",
       "    <tr>\n",
       "      <th>1958-01-04</th>\n",
       "      <td>NaN</td>\n",
       "      <td>0.0</td>\n",
       "      <td>12.0</td>\n",
       "      <td>NaN</td>\n",
       "    </tr>\n",
       "    <tr>\n",
       "      <th>1958-01-05</th>\n",
       "      <td>NaN</td>\n",
       "      <td>0.0</td>\n",
       "      <td>12.0</td>\n",
       "      <td>NaN</td>\n",
       "    </tr>\n",
       "  </tbody>\n",
       "</table>\n",
       "</div>"
      ],
      "text/plain": [
       "            CO2   NB  scale  station\n",
       "date                                \n",
       "1958-01-01  NaN  0.0   12.0      NaN\n",
       "1958-01-02  NaN  0.0   12.0      NaN\n",
       "1958-01-03  NaN  0.0   12.0      NaN\n",
       "1958-01-04  NaN  0.0   12.0      NaN\n",
       "1958-01-05  NaN  0.0   12.0      NaN"
      ]
     },
     "execution_count": 247,
     "metadata": {},
     "output_type": "execute_result"
    }
   ],
   "source": [
    "# your code here\n",
    "df_parse = pd.read_csv('data/daily_in_situ_co2_mlo.csv', comment='%',names=[\"Year\", \"Month\", \"Day\", \"CO2\", \"NB\", \"scale\", \"station\"], skipinitialspace=True, parse_dates={'date': ['Year', 'Month', 'Day']})\n",
    "df_parse.set_index(\"date\", inplace=True)\n",
    "df_parse.head()"
   ]
  },
  {
   "cell_type": "markdown",
   "id": "2b45e4d4",
   "metadata": {
    "slideshow": {
     "slide_type": "subslide"
    }
   },
   "source": [
    "Now `df.index` contain [Timestamp](https://pandas.pydata.org/docs/reference/api/pandas.Timestamp.html)s. You can quickly access the day, month, year of the records by using `df.index.day`, `df.index.month` `df.index.year` (etc. see documentation). You can also construct time intervals (or [timedetla](https://pandas.pydata.org/docs/reference/api/pandas.Timedelta.html)s) by subtracting two timestamps\n",
    "\n",
    "> ***Question***\n",
    "> - Subtract the first index to the last index to know how many days are in this data set"
   ]
  },
  {
   "cell_type": "code",
   "execution_count": 248,
   "id": "9c1a39be",
   "metadata": {
    "slideshow": {
     "slide_type": "subslide"
    }
   },
   "outputs": [
    {
     "data": {
      "text/plain": [
       "23283"
      ]
     },
     "execution_count": 248,
     "metadata": {},
     "output_type": "execute_result"
    }
   ],
   "source": [
    "#your answer here\n",
    "(df.index[-1] - df.index[0]).days"
   ]
  },
  {
   "cell_type": "markdown",
   "id": "e31de2fc",
   "metadata": {},
   "source": [
    "You can now select specific rows of your dataset by passing dates to the `.loc[]` method, as in `.loc[date0:date1]`. The two dates `date0` and `date1` can be written as strings in the format `'YYYY-MM-DD'` (e.g. `'2020-09-20'`) or simply `'YYYY-MM'`. \n",
    "\n",
    "If `date0` is only `'2020-09'` (you are missing the days), Pandas will interpret it as the first day of September 2020. Note that Pandas can also interpret `'2020-09'` as the whole month of September 2020 if this is the only argument as in `.loc[date0]`.\n",
    "\n",
    "> ***Question***\n",
    "> - Select the whole month of September 2020 with two different methods\n"
   ]
  },
  {
   "cell_type": "code",
   "execution_count": 249,
   "id": "4cbd77ed",
   "metadata": {},
   "outputs": [
    {
     "data": {
      "text/html": [
       "<div>\n",
       "<style scoped>\n",
       "    .dataframe tbody tr th:only-of-type {\n",
       "        vertical-align: middle;\n",
       "    }\n",
       "\n",
       "    .dataframe tbody tr th {\n",
       "        vertical-align: top;\n",
       "    }\n",
       "\n",
       "    .dataframe thead th {\n",
       "        text-align: right;\n",
       "    }\n",
       "</style>\n",
       "<table border=\"1\" class=\"dataframe\">\n",
       "  <thead>\n",
       "    <tr style=\"text-align: right;\">\n",
       "      <th></th>\n",
       "      <th>CO2</th>\n",
       "      <th>NB</th>\n",
       "      <th>scale</th>\n",
       "    </tr>\n",
       "  </thead>\n",
       "  <tbody>\n",
       "    <tr>\n",
       "      <th>2020-09-01</th>\n",
       "      <td>411.95</td>\n",
       "      <td>6.0</td>\n",
       "      <td>12.0</td>\n",
       "    </tr>\n",
       "    <tr>\n",
       "      <th>2020-09-02</th>\n",
       "      <td>411.77</td>\n",
       "      <td>4.0</td>\n",
       "      <td>12.0</td>\n",
       "    </tr>\n",
       "    <tr>\n",
       "      <th>2020-09-03</th>\n",
       "      <td>411.66</td>\n",
       "      <td>10.0</td>\n",
       "      <td>12.0</td>\n",
       "    </tr>\n",
       "    <tr>\n",
       "      <th>2020-09-04</th>\n",
       "      <td>411.21</td>\n",
       "      <td>6.0</td>\n",
       "      <td>12.0</td>\n",
       "    </tr>\n",
       "    <tr>\n",
       "      <th>2020-09-05</th>\n",
       "      <td>411.38</td>\n",
       "      <td>12.0</td>\n",
       "      <td>12.0</td>\n",
       "    </tr>\n",
       "    <tr>\n",
       "      <th>2020-09-06</th>\n",
       "      <td>411.50</td>\n",
       "      <td>21.0</td>\n",
       "      <td>12.0</td>\n",
       "    </tr>\n",
       "    <tr>\n",
       "      <th>2020-09-07</th>\n",
       "      <td>411.36</td>\n",
       "      <td>11.0</td>\n",
       "      <td>12.0</td>\n",
       "    </tr>\n",
       "    <tr>\n",
       "      <th>2020-09-08</th>\n",
       "      <td>NaN</td>\n",
       "      <td>0.0</td>\n",
       "      <td>12.0</td>\n",
       "    </tr>\n",
       "    <tr>\n",
       "      <th>2020-09-09</th>\n",
       "      <td>411.19</td>\n",
       "      <td>9.0</td>\n",
       "      <td>12.0</td>\n",
       "    </tr>\n",
       "    <tr>\n",
       "      <th>2020-09-10</th>\n",
       "      <td>410.94</td>\n",
       "      <td>12.0</td>\n",
       "      <td>12.0</td>\n",
       "    </tr>\n",
       "    <tr>\n",
       "      <th>2020-09-11</th>\n",
       "      <td>NaN</td>\n",
       "      <td>0.0</td>\n",
       "      <td>12.0</td>\n",
       "    </tr>\n",
       "    <tr>\n",
       "      <th>2020-09-12</th>\n",
       "      <td>411.18</td>\n",
       "      <td>12.0</td>\n",
       "      <td>12.0</td>\n",
       "    </tr>\n",
       "    <tr>\n",
       "      <th>2020-09-13</th>\n",
       "      <td>411.38</td>\n",
       "      <td>22.0</td>\n",
       "      <td>12.0</td>\n",
       "    </tr>\n",
       "    <tr>\n",
       "      <th>2020-09-14</th>\n",
       "      <td>411.61</td>\n",
       "      <td>8.0</td>\n",
       "      <td>12.0</td>\n",
       "    </tr>\n",
       "    <tr>\n",
       "      <th>2020-09-15</th>\n",
       "      <td>411.91</td>\n",
       "      <td>9.0</td>\n",
       "      <td>12.0</td>\n",
       "    </tr>\n",
       "    <tr>\n",
       "      <th>2020-09-16</th>\n",
       "      <td>NaN</td>\n",
       "      <td>0.0</td>\n",
       "      <td>12.0</td>\n",
       "    </tr>\n",
       "    <tr>\n",
       "      <th>2020-09-17</th>\n",
       "      <td>411.21</td>\n",
       "      <td>5.0</td>\n",
       "      <td>12.0</td>\n",
       "    </tr>\n",
       "    <tr>\n",
       "      <th>2020-09-18</th>\n",
       "      <td>411.11</td>\n",
       "      <td>19.0</td>\n",
       "      <td>12.0</td>\n",
       "    </tr>\n",
       "    <tr>\n",
       "      <th>2020-09-19</th>\n",
       "      <td>410.96</td>\n",
       "      <td>22.0</td>\n",
       "      <td>12.0</td>\n",
       "    </tr>\n",
       "    <tr>\n",
       "      <th>2020-09-20</th>\n",
       "      <td>411.08</td>\n",
       "      <td>15.0</td>\n",
       "      <td>12.0</td>\n",
       "    </tr>\n",
       "    <tr>\n",
       "      <th>2020-09-21</th>\n",
       "      <td>NaN</td>\n",
       "      <td>0.0</td>\n",
       "      <td>12.0</td>\n",
       "    </tr>\n",
       "    <tr>\n",
       "      <th>2020-09-22</th>\n",
       "      <td>NaN</td>\n",
       "      <td>0.0</td>\n",
       "      <td>12.0</td>\n",
       "    </tr>\n",
       "    <tr>\n",
       "      <th>2020-09-23</th>\n",
       "      <td>411.18</td>\n",
       "      <td>15.0</td>\n",
       "      <td>12.0</td>\n",
       "    </tr>\n",
       "    <tr>\n",
       "      <th>2020-09-24</th>\n",
       "      <td>411.13</td>\n",
       "      <td>15.0</td>\n",
       "      <td>12.0</td>\n",
       "    </tr>\n",
       "    <tr>\n",
       "      <th>2020-09-25</th>\n",
       "      <td>410.59</td>\n",
       "      <td>20.0</td>\n",
       "      <td>12.0</td>\n",
       "    </tr>\n",
       "    <tr>\n",
       "      <th>2020-09-26</th>\n",
       "      <td>410.90</td>\n",
       "      <td>11.0</td>\n",
       "      <td>12.0</td>\n",
       "    </tr>\n",
       "    <tr>\n",
       "      <th>2020-09-27</th>\n",
       "      <td>410.96</td>\n",
       "      <td>5.0</td>\n",
       "      <td>12.0</td>\n",
       "    </tr>\n",
       "    <tr>\n",
       "      <th>2020-09-28</th>\n",
       "      <td>411.14</td>\n",
       "      <td>6.0</td>\n",
       "      <td>12.0</td>\n",
       "    </tr>\n",
       "    <tr>\n",
       "      <th>2020-09-29</th>\n",
       "      <td>411.06</td>\n",
       "      <td>14.0</td>\n",
       "      <td>12.0</td>\n",
       "    </tr>\n",
       "    <tr>\n",
       "      <th>2020-09-30</th>\n",
       "      <td>410.34</td>\n",
       "      <td>11.0</td>\n",
       "      <td>12.0</td>\n",
       "    </tr>\n",
       "  </tbody>\n",
       "</table>\n",
       "</div>"
      ],
      "text/plain": [
       "               CO2    NB  scale\n",
       "2020-09-01  411.95   6.0   12.0\n",
       "2020-09-02  411.77   4.0   12.0\n",
       "2020-09-03  411.66  10.0   12.0\n",
       "2020-09-04  411.21   6.0   12.0\n",
       "2020-09-05  411.38  12.0   12.0\n",
       "2020-09-06  411.50  21.0   12.0\n",
       "2020-09-07  411.36  11.0   12.0\n",
       "2020-09-08     NaN   0.0   12.0\n",
       "2020-09-09  411.19   9.0   12.0\n",
       "2020-09-10  410.94  12.0   12.0\n",
       "2020-09-11     NaN   0.0   12.0\n",
       "2020-09-12  411.18  12.0   12.0\n",
       "2020-09-13  411.38  22.0   12.0\n",
       "2020-09-14  411.61   8.0   12.0\n",
       "2020-09-15  411.91   9.0   12.0\n",
       "2020-09-16     NaN   0.0   12.0\n",
       "2020-09-17  411.21   5.0   12.0\n",
       "2020-09-18  411.11  19.0   12.0\n",
       "2020-09-19  410.96  22.0   12.0\n",
       "2020-09-20  411.08  15.0   12.0\n",
       "2020-09-21     NaN   0.0   12.0\n",
       "2020-09-22     NaN   0.0   12.0\n",
       "2020-09-23  411.18  15.0   12.0\n",
       "2020-09-24  411.13  15.0   12.0\n",
       "2020-09-25  410.59  20.0   12.0\n",
       "2020-09-26  410.90  11.0   12.0\n",
       "2020-09-27  410.96   5.0   12.0\n",
       "2020-09-28  411.14   6.0   12.0\n",
       "2020-09-29  411.06  14.0   12.0\n",
       "2020-09-30  410.34  11.0   12.0"
      ]
     },
     "execution_count": 249,
     "metadata": {},
     "output_type": "execute_result"
    }
   ],
   "source": [
    "#your code here\n",
    "df.loc['2020-09']"
   ]
  },
  {
   "cell_type": "code",
   "execution_count": 250,
   "id": "0608fbbb-d5c7-4b21-a05f-4bbfe519e6de",
   "metadata": {},
   "outputs": [
    {
     "data": {
      "text/html": [
       "<div>\n",
       "<style scoped>\n",
       "    .dataframe tbody tr th:only-of-type {\n",
       "        vertical-align: middle;\n",
       "    }\n",
       "\n",
       "    .dataframe tbody tr th {\n",
       "        vertical-align: top;\n",
       "    }\n",
       "\n",
       "    .dataframe thead th {\n",
       "        text-align: right;\n",
       "    }\n",
       "</style>\n",
       "<table border=\"1\" class=\"dataframe\">\n",
       "  <thead>\n",
       "    <tr style=\"text-align: right;\">\n",
       "      <th></th>\n",
       "      <th>CO2</th>\n",
       "      <th>NB</th>\n",
       "      <th>scale</th>\n",
       "    </tr>\n",
       "  </thead>\n",
       "  <tbody>\n",
       "    <tr>\n",
       "      <th>2020-09-01</th>\n",
       "      <td>411.95</td>\n",
       "      <td>6.0</td>\n",
       "      <td>12.0</td>\n",
       "    </tr>\n",
       "    <tr>\n",
       "      <th>2020-09-02</th>\n",
       "      <td>411.77</td>\n",
       "      <td>4.0</td>\n",
       "      <td>12.0</td>\n",
       "    </tr>\n",
       "    <tr>\n",
       "      <th>2020-09-03</th>\n",
       "      <td>411.66</td>\n",
       "      <td>10.0</td>\n",
       "      <td>12.0</td>\n",
       "    </tr>\n",
       "    <tr>\n",
       "      <th>2020-09-04</th>\n",
       "      <td>411.21</td>\n",
       "      <td>6.0</td>\n",
       "      <td>12.0</td>\n",
       "    </tr>\n",
       "    <tr>\n",
       "      <th>2020-09-05</th>\n",
       "      <td>411.38</td>\n",
       "      <td>12.0</td>\n",
       "      <td>12.0</td>\n",
       "    </tr>\n",
       "    <tr>\n",
       "      <th>2020-09-06</th>\n",
       "      <td>411.50</td>\n",
       "      <td>21.0</td>\n",
       "      <td>12.0</td>\n",
       "    </tr>\n",
       "    <tr>\n",
       "      <th>2020-09-07</th>\n",
       "      <td>411.36</td>\n",
       "      <td>11.0</td>\n",
       "      <td>12.0</td>\n",
       "    </tr>\n",
       "    <tr>\n",
       "      <th>2020-09-08</th>\n",
       "      <td>NaN</td>\n",
       "      <td>0.0</td>\n",
       "      <td>12.0</td>\n",
       "    </tr>\n",
       "    <tr>\n",
       "      <th>2020-09-09</th>\n",
       "      <td>411.19</td>\n",
       "      <td>9.0</td>\n",
       "      <td>12.0</td>\n",
       "    </tr>\n",
       "    <tr>\n",
       "      <th>2020-09-10</th>\n",
       "      <td>410.94</td>\n",
       "      <td>12.0</td>\n",
       "      <td>12.0</td>\n",
       "    </tr>\n",
       "    <tr>\n",
       "      <th>2020-09-11</th>\n",
       "      <td>NaN</td>\n",
       "      <td>0.0</td>\n",
       "      <td>12.0</td>\n",
       "    </tr>\n",
       "    <tr>\n",
       "      <th>2020-09-12</th>\n",
       "      <td>411.18</td>\n",
       "      <td>12.0</td>\n",
       "      <td>12.0</td>\n",
       "    </tr>\n",
       "    <tr>\n",
       "      <th>2020-09-13</th>\n",
       "      <td>411.38</td>\n",
       "      <td>22.0</td>\n",
       "      <td>12.0</td>\n",
       "    </tr>\n",
       "    <tr>\n",
       "      <th>2020-09-14</th>\n",
       "      <td>411.61</td>\n",
       "      <td>8.0</td>\n",
       "      <td>12.0</td>\n",
       "    </tr>\n",
       "    <tr>\n",
       "      <th>2020-09-15</th>\n",
       "      <td>411.91</td>\n",
       "      <td>9.0</td>\n",
       "      <td>12.0</td>\n",
       "    </tr>\n",
       "    <tr>\n",
       "      <th>2020-09-16</th>\n",
       "      <td>NaN</td>\n",
       "      <td>0.0</td>\n",
       "      <td>12.0</td>\n",
       "    </tr>\n",
       "    <tr>\n",
       "      <th>2020-09-17</th>\n",
       "      <td>411.21</td>\n",
       "      <td>5.0</td>\n",
       "      <td>12.0</td>\n",
       "    </tr>\n",
       "    <tr>\n",
       "      <th>2020-09-18</th>\n",
       "      <td>411.11</td>\n",
       "      <td>19.0</td>\n",
       "      <td>12.0</td>\n",
       "    </tr>\n",
       "    <tr>\n",
       "      <th>2020-09-19</th>\n",
       "      <td>410.96</td>\n",
       "      <td>22.0</td>\n",
       "      <td>12.0</td>\n",
       "    </tr>\n",
       "    <tr>\n",
       "      <th>2020-09-20</th>\n",
       "      <td>411.08</td>\n",
       "      <td>15.0</td>\n",
       "      <td>12.0</td>\n",
       "    </tr>\n",
       "    <tr>\n",
       "      <th>2020-09-21</th>\n",
       "      <td>NaN</td>\n",
       "      <td>0.0</td>\n",
       "      <td>12.0</td>\n",
       "    </tr>\n",
       "    <tr>\n",
       "      <th>2020-09-22</th>\n",
       "      <td>NaN</td>\n",
       "      <td>0.0</td>\n",
       "      <td>12.0</td>\n",
       "    </tr>\n",
       "    <tr>\n",
       "      <th>2020-09-23</th>\n",
       "      <td>411.18</td>\n",
       "      <td>15.0</td>\n",
       "      <td>12.0</td>\n",
       "    </tr>\n",
       "    <tr>\n",
       "      <th>2020-09-24</th>\n",
       "      <td>411.13</td>\n",
       "      <td>15.0</td>\n",
       "      <td>12.0</td>\n",
       "    </tr>\n",
       "    <tr>\n",
       "      <th>2020-09-25</th>\n",
       "      <td>410.59</td>\n",
       "      <td>20.0</td>\n",
       "      <td>12.0</td>\n",
       "    </tr>\n",
       "    <tr>\n",
       "      <th>2020-09-26</th>\n",
       "      <td>410.90</td>\n",
       "      <td>11.0</td>\n",
       "      <td>12.0</td>\n",
       "    </tr>\n",
       "    <tr>\n",
       "      <th>2020-09-27</th>\n",
       "      <td>410.96</td>\n",
       "      <td>5.0</td>\n",
       "      <td>12.0</td>\n",
       "    </tr>\n",
       "    <tr>\n",
       "      <th>2020-09-28</th>\n",
       "      <td>411.14</td>\n",
       "      <td>6.0</td>\n",
       "      <td>12.0</td>\n",
       "    </tr>\n",
       "    <tr>\n",
       "      <th>2020-09-29</th>\n",
       "      <td>411.06</td>\n",
       "      <td>14.0</td>\n",
       "      <td>12.0</td>\n",
       "    </tr>\n",
       "    <tr>\n",
       "      <th>2020-09-30</th>\n",
       "      <td>410.34</td>\n",
       "      <td>11.0</td>\n",
       "      <td>12.0</td>\n",
       "    </tr>\n",
       "  </tbody>\n",
       "</table>\n",
       "</div>"
      ],
      "text/plain": [
       "               CO2    NB  scale\n",
       "2020-09-01  411.95   6.0   12.0\n",
       "2020-09-02  411.77   4.0   12.0\n",
       "2020-09-03  411.66  10.0   12.0\n",
       "2020-09-04  411.21   6.0   12.0\n",
       "2020-09-05  411.38  12.0   12.0\n",
       "2020-09-06  411.50  21.0   12.0\n",
       "2020-09-07  411.36  11.0   12.0\n",
       "2020-09-08     NaN   0.0   12.0\n",
       "2020-09-09  411.19   9.0   12.0\n",
       "2020-09-10  410.94  12.0   12.0\n",
       "2020-09-11     NaN   0.0   12.0\n",
       "2020-09-12  411.18  12.0   12.0\n",
       "2020-09-13  411.38  22.0   12.0\n",
       "2020-09-14  411.61   8.0   12.0\n",
       "2020-09-15  411.91   9.0   12.0\n",
       "2020-09-16     NaN   0.0   12.0\n",
       "2020-09-17  411.21   5.0   12.0\n",
       "2020-09-18  411.11  19.0   12.0\n",
       "2020-09-19  410.96  22.0   12.0\n",
       "2020-09-20  411.08  15.0   12.0\n",
       "2020-09-21     NaN   0.0   12.0\n",
       "2020-09-22     NaN   0.0   12.0\n",
       "2020-09-23  411.18  15.0   12.0\n",
       "2020-09-24  411.13  15.0   12.0\n",
       "2020-09-25  410.59  20.0   12.0\n",
       "2020-09-26  410.90  11.0   12.0\n",
       "2020-09-27  410.96   5.0   12.0\n",
       "2020-09-28  411.14   6.0   12.0\n",
       "2020-09-29  411.06  14.0   12.0\n",
       "2020-09-30  410.34  11.0   12.0"
      ]
     },
     "execution_count": 250,
     "metadata": {},
     "output_type": "execute_result"
    }
   ],
   "source": [
    "df.loc['2020-09-01':'2020-09-30']"
   ]
  },
  {
   "cell_type": "markdown",
   "id": "7e030413",
   "metadata": {
    "slideshow": {
     "slide_type": "subslide"
    }
   },
   "source": [
    "Pandas has built-in plotting features that are based on matplotlib. Since you now master matplotlib, you will find it very easy to plot data within pandas. \n",
    "\n",
    "> ***Question***\n",
    "> - Plot the CO2 time series as a function of time. (Hint: select the column of interest in df and simply apply the method `.plot()`)"
   ]
  },
  {
   "cell_type": "code",
   "execution_count": 251,
   "id": "60e54eb1",
   "metadata": {
    "slideshow": {
     "slide_type": "subslide"
    }
   },
   "outputs": [
    {
     "data": {
      "image/png": "[encoded data removed]",
      "text/plain": [
       "<Figure size 640x480 with 1 Axes>"
      ]
     },
     "metadata": {},
     "output_type": "display_data"
    }
   ],
   "source": [
    "# your answer here\n",
    "df['CO2'].plot()\n",
    "plt.xlabel('Time')\n",
    "plt.ylabel('CO2')\n",
    "plt.show()"
   ]
  },
  {
   "cell_type": "markdown",
   "id": "29beed2e",
   "metadata": {
    "slideshow": {
     "slide_type": "subslide"
    }
   },
   "source": [
    "The CO2 curve is increasing. This is not really a surprised isn't it?. However, we also notice wiglly patterns superimposed to this trend. Are we looking at noisy data are does it have a physical meaning?\n",
    "\n",
    "> ***Question***\n",
    "> - In order to get a closer look, can you plot only 2 years of the CO2 time series between Jan 1st 2000 and Jan 1st 2002?"
   ]
  },
  {
   "cell_type": "code",
   "execution_count": 252,
   "id": "01624960",
   "metadata": {
    "slideshow": {
     "slide_type": "subslide"
    }
   },
   "outputs": [
    {
     "data": {
      "image/png": "[encoded data removed]",
      "text/plain": [
       "<Figure size 640x480 with 1 Axes>"
      ]
     },
     "metadata": {},
     "output_type": "display_data"
    }
   ],
   "source": [
    "#your answer here\n",
    "df['CO2'].loc['2000-01-01':'2002-01-01'].plot()\n",
    "plt.xlabel('Time')\n",
    "plt.ylabel('CO2')\n",
    "plt.show()"
   ]
  },
  {
   "cell_type": "markdown",
   "id": "2feb6af3",
   "metadata": {
    "slideshow": {
     "slide_type": "subslide"
    }
   },
   "source": [
    "So there seem to be a lot of variability and many missing data in this data set. We can try to average all available data for each single year that we have. That way we will probably see a smoother curve. The [`resample`](https://pandas.pydata.org/docs/reference/api/pandas.DataFrame.resample.html) function is here to create a new time series with the desired sampling frequency. The acronym for standard time intervals are listed in the [Time series documentation](https://pandas.pydata.org/pandas-docs/stable/user_guide/timeseries.html#offset-aliases). You need to either add the method `.mean()` or `.sum()` to the resampled data to indicate how to treat the data in the resampling interval.\n",
    "\n",
    "> ***Question***\n",
    "> - Plot the yearly average evolution of the CO2 concentration."
   ]
  },
  {
   "cell_type": "code",
   "execution_count": 253,
   "id": "39ecc55d",
   "metadata": {
    "slideshow": {
     "slide_type": "subslide"
    }
   },
   "outputs": [
    {
     "data": {
      "image/png": "[encoded data removed]",
      "text/plain": [
       "<Figure size 640x480 with 1 Axes>"
      ]
     },
     "metadata": {},
     "output_type": "display_data"
    }
   ],
   "source": [
    "#your answer here\n",
    "data = df['CO2'].resample('YS').mean()\n",
    "data.plot()\n",
    "plt.xlabel('Time')\n",
    "plt.ylabel('CO2')\n",
    "plt.title('Yearly averaged CO2 concentration')\n",
    "plt.show()"
   ]
  },
  {
   "cell_type": "markdown",
   "id": "aa3f38d5",
   "metadata": {
    "slideshow": {
     "slide_type": "subslide"
    }
   },
   "source": [
    "These wiggles are not random but are the actual annual cycle of the data.\n",
    "> ***Question (Optional)***\n",
    "> - Use the method `.groupby` to plot the annual cycle\n",
    "> - Discuss the physical origin of this anual cycle"
   ]
  },
  {
   "cell_type": "markdown",
   "id": "f07fefe9-330e-430a-99b9-6305a4e50722",
   "metadata": {},
   "source": [
    "**Answer:** This annual cycle is related to the seasons of the year. The CO2 concentration in the atmosphere decreases from May to September (spring and summer in the Northern hemisphere), months in which land vegetation grows and takes more CO2 through photosynthesis. Then, during northern autumn and winter, leaves fall and vegetation dries off, increasing CO2 concentration again in the atmosphere from October to May."
   ]
  },
  {
   "cell_type": "code",
   "execution_count": 254,
   "id": "2637d127-731c-45e6-a631-2722ae882e12",
   "metadata": {},
   "outputs": [
    {
     "data": {
      "image/png": "[encoded data removed]",
      "text/plain": [
       "<Figure size 640x480 with 1 Axes>"
      ]
     },
     "metadata": {},
     "output_type": "display_data"
    }
   ],
   "source": [
    "#your answer here\n",
    "import calendar \n",
    "\n",
    "data = df.groupby(df.index.month).mean()['CO2']\n",
    "ax = data.plot()\n",
    "ax.set_xlabel('Months')\n",
    "ax.set_xticks(range(1, 13))\n",
    "ax.set_xticklabels(calendar.month_abbr[1:])\n",
    "ax.set_ylabel('CO2')\n",
    "ax.set_title('Averaged annual cycle of CO2 concentration')\n",
    "plt.show()"
   ]
  },
  {
   "cell_type": "code",
   "execution_count": 255,
   "id": "1f496165-2f2f-4a7c-8246-5ee1810ed425",
   "metadata": {},
   "outputs": [
    {
     "data": {
      "image/png": "[encoded data removed]",
      "text/plain": [
       "<Figure size 640x480 with 1 Axes>"
      ]
     },
     "metadata": {},
     "output_type": "display_data"
    }
   ],
   "source": [
    "df['CO2'].loc['2000-01-01':'2002-01-01'].resample('MS').mean().plot()\n",
    "plt.xlabel('Time')\n",
    "plt.ylabel('CO2')\n",
    "plt.title('Monthly averaged CO2 concentration for 2000 and 2001')\n",
    "plt.show()"
   ]
  },
  {
   "cell_type": "markdown",
   "id": "9d54f3c4",
   "metadata": {
    "slideshow": {
     "slide_type": "subslide"
    }
   },
   "source": [
    "## Scikit-learn for data analysis"
   ]
  },
  {
   "cell_type": "markdown",
   "id": "822fc378",
   "metadata": {
    "slideshow": {
     "slide_type": "subslide"
    }
   },
   "source": [
    "[Scikit-learn](https://scikit-learn.org/) will be our toolbox for all statistical analysis. It provides the most popular machine learning algorithm, is well documented and has an active user community. Scikit learn does not work well with missing data. So in order to have a smooth transition between pandas and scikit-learn, it is convenient to create a copy of your DataFrame without any `NaN`. Make sure you use (and understand) the [`.copy()`](https://pandas.pydata.org/pandas-docs/stable/reference/api/pandas.DataFrame.copy.html) method to create the new array because we are going to make modification to this new DataFrame. You can call this new DataFrame `dfv`."
   ]
  },
  {
   "cell_type": "code",
   "execution_count": 256,
   "id": "0f8ad71c",
   "metadata": {
    "slideshow": {
     "slide_type": "subslide"
    }
   },
   "outputs": [],
   "source": [
    "dfv = df.dropna().copy()"
   ]
  },
  {
   "cell_type": "markdown",
   "id": "9f035614",
   "metadata": {
    "slideshow": {
     "slide_type": "subslide"
    }
   },
   "source": [
    "Because we cannot do a linear regression with dates as indices, we need to create an additional column that contains the day number since the begining of the dataset. Remember how we worked with timedelta (and broadcasting) above?\n",
    "\n",
    "> ***Question***\n",
    "> - Can you create this new column and name it `counter`?\n",
    "\n",
    "*Be careful that this new variable must have dtype int (or float) and not a timedelta. (Hint: look at the [attributes of timedelta](https://pandas.pydata.org/pandas-docs/stable/user_guide/timedeltas.html#attributes))*"
   ]
  },
  {
   "cell_type": "code",
   "execution_count": 274,
   "id": "0f09b985",
   "metadata": {
    "slideshow": {
     "slide_type": "subslide"
    }
   },
   "outputs": [
    {
     "data": {
      "text/html": [
       "<div>\n",
       "<style scoped>\n",
       "    .dataframe tbody tr th:only-of-type {\n",
       "        vertical-align: middle;\n",
       "    }\n",
       "\n",
       "    .dataframe tbody tr th {\n",
       "        vertical-align: top;\n",
       "    }\n",
       "\n",
       "    .dataframe thead th {\n",
       "        text-align: right;\n",
       "    }\n",
       "</style>\n",
       "<table border=\"1\" class=\"dataframe\">\n",
       "  <thead>\n",
       "    <tr style=\"text-align: right;\">\n",
       "      <th></th>\n",
       "      <th>CO2</th>\n",
       "      <th>NB</th>\n",
       "      <th>scale</th>\n",
       "      <th>counter</th>\n",
       "    </tr>\n",
       "  </thead>\n",
       "  <tbody>\n",
       "    <tr>\n",
       "      <th>1958-03-30</th>\n",
       "      <td>316.16</td>\n",
       "      <td>13.0</td>\n",
       "      <td>12.0</td>\n",
       "      <td>0</td>\n",
       "    </tr>\n",
       "    <tr>\n",
       "      <th>1958-03-31</th>\n",
       "      <td>316.69</td>\n",
       "      <td>13.0</td>\n",
       "      <td>12.0</td>\n",
       "      <td>1</td>\n",
       "    </tr>\n",
       "    <tr>\n",
       "      <th>1958-04-02</th>\n",
       "      <td>317.67</td>\n",
       "      <td>3.0</td>\n",
       "      <td>12.0</td>\n",
       "      <td>3</td>\n",
       "    </tr>\n",
       "    <tr>\n",
       "      <th>1958-04-03</th>\n",
       "      <td>317.76</td>\n",
       "      <td>4.0</td>\n",
       "      <td>12.0</td>\n",
       "      <td>4</td>\n",
       "    </tr>\n",
       "    <tr>\n",
       "      <th>1958-04-04</th>\n",
       "      <td>317.09</td>\n",
       "      <td>17.0</td>\n",
       "      <td>12.0</td>\n",
       "      <td>5</td>\n",
       "    </tr>\n",
       "  </tbody>\n",
       "</table>\n",
       "</div>"
      ],
      "text/plain": [
       "               CO2    NB  scale  counter\n",
       "1958-03-30  316.16  13.0   12.0        0\n",
       "1958-03-31  316.69  13.0   12.0        1\n",
       "1958-04-02  317.67   3.0   12.0        3\n",
       "1958-04-03  317.76   4.0   12.0        4\n",
       "1958-04-04  317.09  17.0   12.0        5"
      ]
     },
     "execution_count": 274,
     "metadata": {},
     "output_type": "execute_result"
    }
   ],
   "source": [
    "dfv[\"counter\"] = (dfv.index - dfv.index[0]).days\n",
    "dfv.head()"
   ]
  },
  {
   "cell_type": "markdown",
   "id": "8460c4a1",
   "metadata": {
    "slideshow": {
     "slide_type": "subslide"
    }
   },
   "source": [
    "We are now ready to use the [linear regression](https://scikit-learn.org/stable/modules/generated/sklearn.linear_model.LinearRegression.html) module."
   ]
  },
  {
   "cell_type": "code",
   "execution_count": 275,
   "id": "56d470f0",
   "metadata": {
    "slideshow": {
     "slide_type": "subslide"
    }
   },
   "outputs": [],
   "source": [
    "from sklearn.linear_model import LinearRegression"
   ]
  },
  {
   "cell_type": "markdown",
   "id": "ab0646dc",
   "metadata": {
    "slideshow": {
     "slide_type": "subslide"
    }
   },
   "source": [
    "We are first going to [fit](https://scikit-learn.org/stable/modules/generated/sklearn.linear_model.LinearRegression.html#sklearn.linear_model.LinearRegression.fit) the data. As explained in the documentation, this function takes at least two arguments: the predictors and the observations. Predictors must be a 2d array of shape (n_samples, n_features), **even if there is only ONE feature**. One simple way to achieve this is to select a list of only one variable in the DataFrame (i.e. `dfv[[\"counter\"]]`, note the usage of double brackets here).\n",
    "\n",
    "> ***Question***\n",
    "> - Create the input variable `X` (day since first record) and the output variable `y` (CO2 concentration)\n",
    "> - Perform the linear regression and put the output in the variable `reg`."
   ]
  },
  {
   "cell_type": "code",
   "execution_count": 277,
   "id": "d829a84f",
   "metadata": {
    "slideshow": {
     "slide_type": "subslide"
    }
   },
   "outputs": [],
   "source": [
    "X = dfv[['counter']]\n",
    "y = dfv['CO2']\n",
    "reg = LinearRegression().fit(X,y)"
   ]
  },
  {
   "cell_type": "markdown",
   "id": "0c218be8",
   "metadata": {
    "slideshow": {
     "slide_type": "subslide"
    }
   },
   "source": [
    "> ***Question***\n",
    "> - What is the value of the regression coefficient?\n",
    "> - What is its physical meaning?"
   ]
  },
  {
   "cell_type": "markdown",
   "id": "e16b669f-2c3c-4889-91c3-caa785acebec",
   "metadata": {},
   "source": [
    "**Answer:** The linear regression coefficient represents the rate of change of atmospheric CO2 concentration with respect to time. In this case, its unit is `ppm/day`."
   ]
  },
  {
   "cell_type": "code",
   "execution_count": 288,
   "id": "e004f059",
   "metadata": {
    "slideshow": {
     "slide_type": "subslide"
    }
   },
   "outputs": [
    {
     "name": "stdout",
     "output_type": "stream",
     "text": [
      "Regression coefficient: 0.004428811450540041\n",
      "Regression intercept: 305.2605097938846\n"
     ]
    }
   ],
   "source": [
    "#your code here\n",
    "print(f'Regression coefficient: {reg.coef_[0]}')\n",
    "print(f'Regression intercept: {reg.intercept_}')"
   ]
  },
  {
   "cell_type": "markdown",
   "id": "9a06f874",
   "metadata": {
    "slideshow": {
     "slide_type": "subslide"
    }
   },
   "source": [
    "> ***Question***\n",
    "> - Use the method `.predict` to construct the predicted value at all observation times and add it to the `dfv` DataFrame."
   ]
  },
  {
   "cell_type": "code",
   "execution_count": 291,
   "id": "6dd18269",
   "metadata": {
    "slideshow": {
     "slide_type": "subslide"
    }
   },
   "outputs": [],
   "source": [
    "dfv[\"CO2_fit\"] = reg.predict(X)"
   ]
  },
  {
   "cell_type": "markdown",
   "id": "fc11ec23",
   "metadata": {
    "slideshow": {
     "slide_type": "subslide"
    }
   },
   "source": [
    "> ***Question***\n",
    "> - Plot the observed value along with your prediction on a single plot."
   ]
  },
  {
   "cell_type": "code",
   "execution_count": 303,
   "id": "8411e407",
   "metadata": {
    "slideshow": {
     "slide_type": "subslide"
    }
   },
   "outputs": [
    {
     "data": {
      "image/png": "[encoded data removed]",
      "text/plain": [
       "<Figure size 640x480 with 1 Axes>"
      ]
     },
     "metadata": {},
     "output_type": "display_data"
    }
   ],
   "source": [
    "#your code here\n",
    "dfv['CO2'].plot(label='observed CO2 concentration')\n",
    "dfv['CO2_fit'].plot(label='linear regression prediction')\n",
    "plt.xlabel('Time')\n",
    "plt.ylabel('CO2 concentration (ppm)')\n",
    "plt.legend()\n",
    "plt.show()"
   ]
  },
  {
   "cell_type": "markdown",
   "id": "74e77b2e",
   "metadata": {
    "slideshow": {
     "slide_type": "subslide"
    }
   },
   "source": [
    "It is now super easy to compute the co2 growth rate in ppm/year for several time periods.\n",
    "> ***Question***\n",
    "> - Perform 2 linear regressions: one between 1960 and 1980 and one between 2000 and 2020 and compare how the growth rate evolved over time.\n",
    "> - Can you give an estimate of the CO2 concentration in 2050?\n"
   ]
  },
  {
   "cell_type": "code",
   "execution_count": 337,
   "id": "9e7d1194-46c0-4a45-84aa-e0100c6e3974",
   "metadata": {},
   "outputs": [
    {
     "name": "stdout",
     "output_type": "stream",
     "text": [
      "The growth rate changed from 0.0028023ppm/day to 0.0061747ppm/day from 1970 to 2010\n"
     ]
    },
    {
     "data": {
      "image/png": "[encoded data removed]",
      "text/plain": [
       "<Figure size 640x480 with 1 Axes>"
      ]
     },
     "metadata": {},
     "output_type": "display_data"
    }
   ],
   "source": [
    "X_2000 = dfv[[\"counter\"]][dfv.index.year>2000]\n",
    "X_1960 = dfv[[\"counter\"]][dfv.index.year<1980]\n",
    "\n",
    "reg_2000 = LinearRegression().fit(X_2000, dfv[\"CO2\"][dfv.index.year>2000])\n",
    "reg_1960 = LinearRegression().fit(X_1960, dfv[\"CO2\"][dfv.index.year<1980])\n",
    "\n",
    "print(f\"The growth rate changed from {reg_1960.coef_[0]:.7f}ppm/day to {reg_2000.coef_[0]:.7f}ppm/day from 1970 to 2010\")\n",
    "\n",
    "pred_2000 = reg_2000.predict(X_2000)\n",
    "pred_1960 = reg_1960.predict(X_1960)\n",
    "\n",
    "dfv['CO2'].plot(label='observed CO2 concentration', alpha=0.6)\n",
    "plt.plot(dfv[dfv.index.year<1980].index, pred_1960, label='regression 1960-1980')\n",
    "plt.plot(dfv[dfv.index.year>2000].index, pred_2000, label='regression 2000-2020')\n",
    "plt.xlabel('Time')\n",
    "plt.ylabel('CO2 concentration (ppm)')\n",
    "plt.legend()\n",
    "plt.show()"
   ]
  },
  {
   "cell_type": "code",
   "execution_count": 362,
   "id": "3360b894",
   "metadata": {},
   "outputs": [
    {
     "name": "stdout",
     "output_type": "stream",
     "text": [
      "With the most recent growth rate, there will be 475.4256 ppm of CO2 in 2050\n"
     ]
    },
    {
     "name": "stderr",
     "output_type": "stream",
     "text": [
      "C:\\Users\\maria\\miniconda3\\envs\\ima\\Lib\\site-packages\\sklearn\\base.py:493: UserWarning: X does not have valid feature names, but LinearRegression was fitted with feature names\n",
      "  warnings.warn(\n"
     ]
    },
    {
     "data": {
      "image/png": "[encoded data removed]",
      "text/plain": [
       "<Figure size 640x480 with 1 Axes>"
      ]
     },
     "metadata": {},
     "output_type": "display_data"
    }
   ],
   "source": [
    "## rough estimate of the number of days between 1960 and 2050 (90 years x 365 days)\n",
    "nday_2050 = 90*365\n",
    "predict_co2_2050 = reg_2000.intercept_ + nday_2050*reg_2000.coef_\n",
    "print(f\"With the most recent growth rate, there will be {predict_co2_2050[0]:.4f} ppm of CO2 in 2050\")\n",
    "\n",
    "extended_index = pd.date_range(start='2000-01-01', end=\"2050-12-31\")\n",
    "pred_2050 = reg_2000.predict((extended_index - dfv.index[0]).days.values.reshape(-1, 1))\n",
    "\n",
    "dfv['CO2'].plot(label='observed CO2 concentration', alpha=0.6)\n",
    "plt.plot(extended_index, pred_2050, label='predictive regression 2000-2050')\n",
    "plt.xlabel('Time')\n",
    "plt.ylabel('CO2 concentration (ppm)')\n",
    "plt.legend()\n",
    "plt.show()"
   ]
  },
  {
   "cell_type": "markdown",
   "id": "5e186998",
   "metadata": {
    "slideshow": {
     "slide_type": "slide"
    }
   },
   "source": [
    "***\n",
    "## Credit\n",
    "\n",
    "[//]: # \"This notebook is part of [E4C Interdisciplinary Center - Education](https://gitlab.in2p3.fr/energy4climate/public/education).\"\n",
    "Contributors include Bruno Deremble and Alexis Tantet.\n",
    "\n",
    "<br>\n",
    "\n",
    "<div style=\"display: flex; height: 70px\">\n",
    "    \n",
    "<img alt=\"Logo LMD\" src=\"images/logos/logo_lmd.jpg\" style=\"display: inline-block\"/>\n",
    "\n",
    "<img alt=\"Logo IPSL\" src=\"images/logos/logo_ipsl.png\" style=\"display: inline-block\"/>\n",
    "\n",
    "<img alt=\"Logo E4C\" src=\"images/logos/logo_e4c_final.png\" style=\"display: inline-block\"/>\n",
    "\n",
    "<img alt=\"Logo EP\" src=\"images/logos/logo_ep.png\" style=\"display: inline-block\"/>\n",
    "\n",
    "<img alt=\"Logo SU\" src=\"images/logos/logo_su.png\" style=\"display: inline-block\"/>\n",
    "\n",
    "<img alt=\"Logo ENS\" src=\"images/logos/logo_ens.jpg\" style=\"display: inline-block\"/>\n",
    "\n",
    "<img alt=\"Logo CNRS\" src=\"images/logos/logo_cnrs.png\" style=\"display: inline-block\"/>\n",
    "    \n",
    "</div>\n",
    "\n",
    "<hr>\n",
    "\n",
    "<div style=\"display: flex\">\n",
    "    <a rel=\"license\" href=\"http://creativecommons.org/licenses/by-sa/4.0/\"><img alt=\"Creative Commons License\" style=\"border-width:0; margin-right: 10px\" src=\"https://i.creativecommons.org/l/by-sa/4.0/88x31.png\" /></a>\n",
    "    <br>This work is licensed under a &nbsp; <a rel=\"license\" href=\"http://creativecommons.org/licenses/by-sa/4.0/\">Creative Commons Attribution-ShareAlike 4.0 International License</a>.\n",
    "</div>"
   ]
  }
 ],
 "metadata": {
  "celltoolbar": "Slideshow",
  "kernelspec": {
   "display_name": "Python 3 (ipykernel)",
   "language": "python",
   "name": "python3"
  },
  "language_info": {
   "codemirror_mode": {
    "name": "ipython",
    "version": 3
   },
   "file_extension": ".py",
   "mimetype": "text/x-python",
   "name": "python",
   "nbconvert_exporter": "python",
   "pygments_lexer": "ipython3",
   "version": "3.12.3"
  },
  "latex_envs": {
   "LaTeX_envs_menu_present": true,
   "autoclose": true,
   "autocomplete": false,
   "bibliofile": "biblio.bib",
   "cite_by": "apalike",
   "current_citInitial": 1,
   "eqLabelWithNumbers": true,
   "eqNumInitial": 1,
   "hotkeys": {
    "equation": "Ctrl-E",
    "itemize": "Ctrl-I"
   },
   "labels_anchors": false,
   "latex_user_defs": false,
   "report_style_numbering": false,
   "user_envs_cfg": false
  },
  "toc": {
   "base_numbering": 1,
   "nav_menu": {},
   "number_sections": true,
   "sideBar": true,
   "skip_h1_title": false,
   "title_cell": "Table of Contents",
   "title_sidebar": "Contents",
   "toc_cell": false,
   "toc_position": {},
   "toc_section_display": true,
   "toc_window_display": false
  },
  "varInspector": {
   "cols": {
    "lenName": 16,
    "lenType": 16,
    "lenVar": 40
   },
   "kernels_config": {
    "python": {
     "delete_cmd_postfix": "",
     "delete_cmd_prefix": "del ",
     "library": "var_list.py",
     "varRefreshCmd": "print(var_dic_list())"
    },
    "r": {
     "delete_cmd_postfix": ") ",
     "delete_cmd_prefix": "rm(",
     "library": "var_list.r",
     "varRefreshCmd": "cat(var_dic_list()) "
    }
   },
   "types_to_exclude": [
    "module",
    "function",
    "builtin_function_or_method",
    "instance",
    "_Feature"
   ],
   "window_display": false
  }
 },
 "nbformat": 4,
 "nbformat_minor": 5
}
